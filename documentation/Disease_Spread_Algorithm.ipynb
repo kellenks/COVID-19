{
 "cells": [
  {
   "cell_type": "code",
   "execution_count": 1,
   "metadata": {},
   "outputs": [],
   "source": [
    "import pandas as pd, numpy as np\n",
    "import pickle, re\n",
    "from datetime import datetime, timedelta"
   ]
  },
  {
   "cell_type": "code",
   "execution_count": 2,
   "metadata": {},
   "outputs": [
    {
     "name": "stdout",
     "output_type": "stream",
     "text": [
      "3142\n"
     ]
    }
   ],
   "source": [
    "all_fips = sorted(set(pickle.load(open('flow.pickle', 'rb'))['sfips']))\n",
    "all_fips = [x for x in all_fips if x//1000 != 72]\n",
    "print(len(all_fips))"
   ]
  },
  {
   "cell_type": "code",
   "execution_count": 3,
   "metadata": {},
   "outputs": [],
   "source": [
    "ecbd = pickle.load(open('time_series.pickle','rb'))['ECBD'].loc[all_fips]\n",
    "matrices = pickle.load(open('matrices.pickle','rb'))\n",
    "cases_full = pickle.load(open('time_series.pickle','rb'))['cases_full'].loc[all_fips]\n",
    "cases_added = pickle.load(open('time_series.pickle','rb'))['cases_added'].loc[all_fips]"
   ]
  },
  {
   "cell_type": "code",
   "execution_count": 4,
   "metadata": {},
   "outputs": [],
   "source": [
    "t14_dates = sorted(set(ecbd).intersection(set(matrices)))\n",
    "\n",
    "t14_cases = pd.DataFrame()\n",
    "\n",
    "t14_recovered = pd.DataFrame()\n",
    "\n",
    "recovered = pd.Series(ecbd[t14_dates[0]])*0\n",
    "c = pd.Series(ecbd[t14_dates[0]])\n",
    "\n",
    "alpha= 80\n",
    "beta = .9\n",
    "\n",
    "\n",
    "for date in t14_dates:\n",
    "    p = ecbd[date]\n",
    "    c = alpha*p + beta*c\n",
    "    c = matrices[date] @ c\n",
    "    \n",
    "    t14_cases[date] = c\n",
    "    recovered += (1-beta)*c\n",
    "    t14_recovered[date] = recovered\n"
   ]
  },
  {
   "cell_type": "code",
   "execution_count": 5,
   "metadata": {},
   "outputs": [],
   "source": [
    "t14_cases = t14_cases.set_index(pd.Index(all_fips))\n",
    "t14_recovered = t14_recovered.set_index(pd.Index(all_fips))"
   ]
  },
  {
   "cell_type": "code",
   "execution_count": 6,
   "metadata": {},
   "outputs": [],
   "source": [
    "ratios = cases_full.sum(axis=1)/(t14_cases.sum(axis=1) + t14_recovered.sum(axis=1))\n",
    "ratios = ratios.fillna(ratios.mean())"
   ]
  },
  {
   "cell_type": "code",
   "execution_count": 7,
   "metadata": {},
   "outputs": [
    {
     "name": "stdout",
     "output_type": "stream",
     "text": [
      "2020-04-27 00:00:00\n",
      "2020-04-30 00:00:00\n",
      "2020-04-29 00:00:00\n",
      "2020-04-28 00:00:00\n"
     ]
    }
   ],
   "source": [
    "# duplicating last mactrix\n",
    "last_matrix = sorted(list(matrices))[-1]\n",
    "for date in set(cases_full).difference(set(matrices)):\n",
    "    if date > last_matrix:\n",
    "        print(date)\n",
    "        matrices[date] = matrices[last_matrix]"
   ]
  },
  {
   "cell_type": "code",
   "execution_count": 8,
   "metadata": {},
   "outputs": [],
   "source": [
    "estimated_cases = t14_cases.copy()\n",
    "estimated_recovered = t14_recovered.copy()\n",
    "\n",
    "c = estimated_cases[list(t14_recovered)[-1]]\n",
    "recovered = estimated_recovered[list(t14_recovered)[-1]]\n",
    "\n",
    "alpha= 1\n",
    "beta = .9\n",
    "\n",
    "for date in sorted(set(matrices).difference(set(ecbd))):\n",
    "    p = ratios*cases_added[date]\n",
    "    c = alpha*p + beta*c\n",
    "    c = matrices[date] @ c\n",
    "    estimated_cases[date] = c\n",
    "    recovered += (1-beta)*c\n",
    "    estimated_recovered[date] = recovered"
   ]
  },
  {
   "cell_type": "code",
   "execution_count": 9,
   "metadata": {},
   "outputs": [],
   "source": [
    "estimates = {'t14_cases':t14_cases,'t14_recovered':t14_recovered,'estimated_cases':estimated_cases,'estimated_recovered':estimated_recovered}"
   ]
  },
  {
   "cell_type": "code",
   "execution_count": 10,
   "metadata": {},
   "outputs": [],
   "source": [
    "pickle.dump(estimates,open('estimates.pickle','wb'))"
   ]
  },
  {
   "cell_type": "code",
   "execution_count": null,
   "metadata": {},
   "outputs": [],
   "source": []
  }
 ],
 "metadata": {
  "kernelspec": {
   "display_name": "Python 3",
   "language": "python",
   "name": "python3"
  },
  "language_info": {
   "codemirror_mode": {
    "name": "ipython",
    "version": 3
   },
   "file_extension": ".py",
   "mimetype": "text/x-python",
   "name": "python",
   "nbconvert_exporter": "python",
   "pygments_lexer": "ipython3",
   "version": "3.6.10"
  }
 },
 "nbformat": 4,
 "nbformat_minor": 4
}
