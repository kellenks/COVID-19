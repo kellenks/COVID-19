{
 "cells": [
  {
   "cell_type": "markdown",
   "metadata": {},
   "source": [
    "### Formatting reported cases and deaths and calculating Future Death Case Estimations (p)\n",
    "Output: Pickle File (dictionary of DataFrames)\n"
   ]
  },
  {
   "cell_type": "code",
   "execution_count": 1,
   "metadata": {},
   "outputs": [],
   "source": [
    "import pandas as pd, numpy as np\n",
    "from datetime import datetime, timedelta\n",
    "import pickle\n"
   ]
  },
  {
   "cell_type": "code",
   "execution_count": 2,
   "metadata": {},
   "outputs": [],
   "source": [
    "cases = pd.read_csv('time_series_covid19_confirmed_US.csv')\n",
    "deaths = pd.read_csv('time_series_covid19_deaths_US.csv')\n",
    "cfeatures = pd.read_excel('county_features.xlsx')\n",
    "cfeatures['fips'] = cfeatures['FIPS']\n",
    "\n",
    "\n",
    "all_dates = [datetime(2020,1,31)+timedelta(days=i) for i in range(91)]\n",
    "case_dates = list(cases)[20:]\n",
    "\n",
    "cases_full = cases[case_dates+['FIPS']].set_index('FIPS')\n",
    "cases_full.columns = all_dates\n",
    "\n",
    "deaths_full = deaths[case_dates+['FIPS']].set_index('FIPS')\n",
    "deaths_full.columns = all_dates\n"
   ]
  },
  {
   "cell_type": "code",
   "execution_count": 3,
   "metadata": {},
   "outputs": [],
   "source": [
    "cases_added = cases_full.copy().drop(all_dates[0],axis=1)\n",
    "deaths_added = deaths_full.copy().drop(all_dates[0],axis=1)\n",
    "for date in all_dates[::-1][:-1]:\n",
    "    cases_added[date] = cases_full[date].values - cases_full[date-timedelta(days=1)].values\n",
    "    deaths_added[date] = deaths_full[date].values - deaths_full[date-timedelta(days=1)].values\n",
    "cases_added.columns = all_dates[1:]\n",
    "deaths_added.columns = all_dates[1:]\n",
    "\n",
    "deaths_rolling = pd.DataFrame()\n",
    "for date in list(deaths_added)[6:]:\n",
    "    rolling_average = deaths_added[[date-timedelta(days=i) for i in range(7)]].mean(axis=1)\n",
    "    deaths_rolling[date] = rolling_average\n",
    "    \n",
    "cases_rolling = pd.DataFrame()\n",
    "for date in list(cases_added)[6:]:\n",
    "    rolling_average = cases_added[[date-timedelta(days=i) for i in range(7)]].mean(axis=1)\n",
    "    cases_rolling[date] = rolling_average\n"
   ]
  },
  {
   "cell_type": "markdown",
   "metadata": {},
   "source": [
    "#### Adjusting deaths by age demographics (compared to Australia)"
   ]
  },
  {
   "cell_type": "code",
   "execution_count": 4,
   "metadata": {},
   "outputs": [],
   "source": [
    "# collecting and generating age statistics\n",
    "age_df = cfeatures[['fips','Demographics: % 65 and over','population']].copy()\n",
    "age_df['popage'] = age_df['Demographics: % 65 and over']*age_df['population']\n",
    "national_percent_over_65 = age_df.sum()['popage']/age_df.sum()['population']\n",
    "over_65_mortality = 100/(national_percent_over_65*2)*.0125\n",
    "age_df.columns = ['FIPS','over65','population','not_used']\n",
    "age_df = age_df.drop('not_used',axis=1)\n",
    "\n",
    "# adjusting deaths based on demographics\n",
    "estimated_cases_by_deaths = deaths_added.reset_index()\n",
    "estimated_cases_by_deaths = pd.merge(estimated_cases_by_deaths,age_df,how='left',on='FIPS')\n",
    "\n",
    "age_vect = estimated_cases_by_deaths['over65']\n",
    "estimated_cases_by_deaths = estimated_cases_by_deaths.drop(['over65','population'],axis=1)\n",
    "fips_index = estimated_cases_by_deaths.pop('FIPS')\n",
    "\n",
    "est_matrix = np.array(estimated_cases_by_deaths)\n",
    "\n",
    "# generating comparison with Australia study\n",
    "age_matrix = np.array([15.7/age_vect for i in range(len(est_matrix[0]))]).transpose()\n",
    "\n",
    "#estmated Cases By Deaths\n",
    "ECBD = pd.DataFrame(age_matrix * est_matrix)\n",
    "ECBD.columns = [x - timedelta(days=14) for x in sorted(list(deaths_added))[:]]\n",
    "\n",
    "ECBD['index'] = fips_index  \n",
    "ECBD = ECBD.set_index('index').fillna(0)\n"
   ]
  },
  {
   "cell_type": "code",
   "execution_count": 5,
   "metadata": {},
   "outputs": [
    {
     "name": "stdout",
     "output_type": "stream",
     "text": [
      "<class 'pandas.core.frame.DataFrame'>\n",
      "<class 'pandas.core.frame.DataFrame'>\n",
      "<class 'pandas.core.frame.DataFrame'>\n",
      "<class 'pandas.core.frame.DataFrame'>\n",
      "<class 'pandas.core.frame.DataFrame'>\n"
     ]
    }
   ],
   "source": [
    "time_series = {'cases_full':cases_full,'cases_added':cases_added,'deaths_full':deaths_full,'deaths_added':deaths_added,'ECBD':ECBD}\n",
    "for key in time_series:\n",
    "    time_series[key] = time_series[key].copy().rename_axis('FIPS').reset_index().dropna().set_index('FIPS')\n",
    "    print(type(time_series[key]))\n"
   ]
  },
  {
   "cell_type": "code",
   "execution_count": 6,
   "metadata": {},
   "outputs": [],
   "source": [
    "pickle.dump(time_series,open('time_series.pickle','wb'))\n"
   ]
  },
  {
   "cell_type": "code",
   "execution_count": null,
   "metadata": {},
   "outputs": [],
   "source": []
  }
 ],
 "metadata": {
  "kernelspec": {
   "display_name": "Python 3",
   "language": "python",
   "name": "python3"
  },
  "language_info": {
   "codemirror_mode": {
    "name": "ipython",
    "version": 3
   },
   "file_extension": ".py",
   "mimetype": "text/x-python",
   "name": "python",
   "nbconvert_exporter": "python",
   "pygments_lexer": "ipython3",
   "version": "3.6.10"
  }
 },
 "nbformat": 4,
 "nbformat_minor": 4
}
