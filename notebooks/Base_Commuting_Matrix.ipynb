{
 "cells": [
  {
   "cell_type": "markdown",
   "metadata": {},
   "source": [
    "### Converts US Census commuting table to DataFrame used by the Spread Model\n",
    "Output: Pickle file (DataFrame)"
   ]
  },
  {
   "cell_type": "code",
   "execution_count": 1,
   "metadata": {},
   "outputs": [],
   "source": [
    "import numpy as np, pandas as pd\n",
    "import re, swifter, pickle"
   ]
  },
  {
   "cell_type": "markdown",
   "metadata": {},
   "source": [
    "#### Removes any rows without two FIPS codes"
   ]
  },
  {
   "cell_type": "code",
   "execution_count": 2,
   "metadata": {},
   "outputs": [],
   "source": [
    "flows = pd.read_excel('flows.xlsx')\n",
    "flow = flows[flows['e_FIPS'] != 'nannan']\n",
    "\n",
    "def correct_format(x):\n",
    "    if re.match(re.compile('\\d{5,7}'),x):\n",
    "        return('correct')\n",
    "    else:\n",
    "        return('incorrect')\n",
    "    \n",
    "flows['eFormat'] = flows.apply(lambda x: correct_format(x['e_FIPS']),axis=1)\n",
    "flows['sFormat'] = flows.apply(lambda x: correct_format(x['s_FIPS']),axis=1)\n",
    "flow = flows[(flows['eFormat']=='correct') & (flows['sFormat']=='correct')].reset_index(drop=True)\n",
    "flow['sfips'] = flow.apply(lambda x: float(x['s_FIPS']),axis=1)\n",
    "flow['efips'] = flow.apply(lambda x: float(x['e_FIPS']),axis=1)\n",
    "\n",
    "flow=flow[['flow','sfips','efips']]\n",
    "\n",
    "del flows"
   ]
  },
  {
   "cell_type": "markdown",
   "metadata": {},
   "source": [
    "#### Combining duplicates"
   ]
  },
  {
   "cell_type": "code",
   "execution_count": 3,
   "metadata": {},
   "outputs": [],
   "source": [
    "# aggregating duplicates\n",
    "\n",
    "to_flow = {}\n",
    "grouped = flow.groupby(['sfips','efips'])\n",
    "i = 0\n",
    "for name, group in grouped:\n",
    "    to_flow[i] = {}\n",
    "    to_flow[i]['sfips'] = name[0]\n",
    "    to_flow[i]['efips'] = name[1]\n",
    "    to_flow[i]['flow'] = sum(group['flow'])\n",
    "    i += 1\n",
    "\n",
    "flow = pd.DataFrame(to_flow).transpose()\n",
    "all_fips = sorted(set([x for x in flow['sfips'] if not np.isnan(x)]))"
   ]
  },
  {
   "cell_type": "markdown",
   "metadata": {},
   "source": [
    "#### Calculating percent of commuters from A who travel to B"
   ]
  },
  {
   "cell_type": "code",
   "execution_count": 4,
   "metadata": {},
   "outputs": [
    {
     "data": {
      "application/vnd.jupyter.widget-view+json": {
       "model_id": "3ffcd6eea8c7402ca2e78b835aac51b0",
       "version_major": 2,
       "version_minor": 0
      },
      "text/plain": [
       "HBox(children=(IntProgress(value=0, description='Dask Apply', max=16, style=ProgressStyle(description_width='i…"
      ]
     },
     "metadata": {},
     "output_type": "display_data"
    },
    {
     "name": "stdout",
     "output_type": "stream",
     "text": [
      "\n"
     ]
    }
   ],
   "source": [
    "flow_dict = {x:{} for x in set(list(flow['sfips']))}\n",
    "for index, row in flow.iterrows():\n",
    "    flow_dict[row['sfips']][row['efips']] = row['flow']\n",
    "\n",
    "flow_total = {}\n",
    "for x in list(flow_dict):\n",
    "    try:\n",
    "        flow_total[x] = sum([flow_dict[x][y] for y in flow_dict[x]])\n",
    "    except:\n",
    "        print(x)\n",
    "\n",
    "def commuter_percent(f1,f2):\n",
    "    if f1 in flow_dict:\n",
    "        if f2 in flow_dict[f1]:\n",
    "            return(flow_dict[f1][f2]/flow_total[f1])\n",
    "        else:\n",
    "            return(0)\n",
    "    else:\n",
    "        return(0)\n",
    "    \n",
    "flow['commuter%'] = flow.swifter.apply(lambda x: commuter_percent(x['sfips'],x['efips']),axis=1)"
   ]
  },
  {
   "cell_type": "markdown",
   "metadata": {},
   "source": [
    "#### Exporting as Pickle File"
   ]
  },
  {
   "cell_type": "code",
   "execution_count": 5,
   "metadata": {},
   "outputs": [],
   "source": [
    "pickle.dump(flow,open(\"flow.pickle\", \"wb\" ))\n",
    "del flow"
   ]
  }
 ],
 "metadata": {
  "kernelspec": {
   "display_name": "Python 3",
   "language": "python",
   "name": "python3"
  },
  "language_info": {
   "codemirror_mode": {
    "name": "ipython",
    "version": 3
   },
   "file_extension": ".py",
   "mimetype": "text/x-python",
   "name": "python",
   "nbconvert_exporter": "python",
   "pygments_lexer": "ipython3",
   "version": "3.6.9"
  }
 },
 "nbformat": 4,
 "nbformat_minor": 2
}
